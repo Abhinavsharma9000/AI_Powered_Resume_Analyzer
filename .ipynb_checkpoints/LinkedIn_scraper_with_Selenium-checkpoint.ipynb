{
 "cells": [
  {
   "cell_type": "code",
   "execution_count": null,
   "metadata": {},
   "outputs": [],
   "source": [
    "import time\n",
    "import numpy as np\n",
    "import pandas as pd\n",
    "from selenium import webdriver\n",
    "from selenium.webdriver.common.by import By\n",
    "from selenium.webdriver.common.keys import Keys\n",
    "import warnings\n",
    "warnings.filterwarnings('ignore')"
   ]
  },
  {
   "cell_type": "code",
   "execution_count": null,
   "metadata": {},
   "outputs": [],
   "source": [
    "user_input_job_title = input('Enter Job Titles (with comma separated):').split()\n",
    "print(user_input_job_title)"
   ]
  },
  {
   "cell_type": "code",
   "execution_count": null,
   "metadata": {},
   "outputs": [],
   "source": [
    "user_input_job_title"
   ]
  },
  {
   "cell_type": "code",
   "execution_count": null,
   "metadata": {},
   "outputs": [],
   "source": [
    "b = []\n",
    "for i in user_input_job_title:\n",
    "    x = i.split()\n",
    "    y = '%20'.join(x)\n",
    "    b.append(y)\n",
    "\n",
    "job_title = '%2C%20'.join(b)\n",
    "print(job_title)"
   ]
  },
  {
   "cell_type": "code",
   "execution_count": null,
   "metadata": {},
   "outputs": [],
   "source": [
    "link = f\"https://in.linkedin.com/jobs/search?keywords={job_title}&location=India&locationId=&geoId=102713980&f_TPR=r604800&position=1&pageNum=0\"\n",
    "print(link)"
   ]
  },
  {
   "cell_type": "code",
   "execution_count": null,
   "metadata": {},
   "outputs": [],
   "source": [
    "driver = webdriver.Chrome()\n",
    "driver.maximize_window()\n",
    "\n",
    "driver.get(link)\n",
    "driver.implicitly_wait(10)"
   ]
  },
  {
   "cell_type": "code",
   "execution_count": null,
   "metadata": {},
   "outputs": [],
   "source": [
    "for i in range(0,2):\n",
    "    driver.execute_script(\"window.scrollTo(0, document.body.scrollHeight);\")\n",
    "    time.sleep(5)\n",
    "\n",
    "    try:\n",
    "        x = driver.find_element(by=By.CSS_SELECTOR, value=\"button[aria-label='See more jobs']\").click()\n",
    "        time.sleep(3)\n",
    "    except:\n",
    "        pass"
   ]
  },
  {
   "cell_type": "code",
   "execution_count": null,
   "metadata": {},
   "outputs": [],
   "source": [
    "company_name = []\n",
    "\n",
    "try:\n",
    "    company = driver.find_elements(by=By.CSS_SELECTOR, value='h4[class=\"base-search-card__subtitle\"]')\n",
    "    for i in company:\n",
    "        company_name.append(i.text)\n",
    "\n",
    "except:\n",
    "    pass\n",
    "\n",
    "print(company_name)"
   ]
  },
  {
   "cell_type": "code",
   "execution_count": null,
   "metadata": {},
   "outputs": [],
   "source": [
    "job_title = []\n",
    "\n",
    "try:\n",
    "    title = driver.find_elements(by=By.CSS_SELECTOR, value='h3[class=\"base-search-card__title\"]')\n",
    "    for i in title:\n",
    "        job_title.append(i.text)\n",
    "\n",
    "except:\n",
    "    pass\n",
    "\n",
    "print(job_title)"
   ]
  },
  {
   "cell_type": "code",
   "execution_count": null,
   "metadata": {},
   "outputs": [],
   "source": [
    "company_location = []\n",
    "\n",
    "try:\n",
    "    location = driver.find_elements(by=By.CSS_SELECTOR, value='span[class=\"job-search-card__location\"]')\n",
    "    for i in location:\n",
    "        company_location.append(i.text)\n",
    "\n",
    "except:\n",
    "    pass\n",
    "\n",
    "print(company_location)"
   ]
  },
  {
   "cell_type": "code",
   "execution_count": null,
   "metadata": {
    "scrolled": true
   },
   "outputs": [],
   "source": [
    "job_url = []\n",
    "\n",
    "try:\n",
    "    url = driver.find_elements(by=By.XPATH, value='//a[contains(@href, \"/jobs/\")]')\n",
    "    for i in url:\n",
    "        job_url.append(i.get_attribute('href'))\n",
    "\n",
    "except:\n",
    "    pass\n",
    "\n",
    "print(job_url)"
   ]
  },
  {
   "cell_type": "code",
   "execution_count": null,
   "metadata": {},
   "outputs": [],
   "source": [
    "df = pd.DataFrame(company_name, columns=['Company Name'])\n",
    "df['Job Title'] = pd.DataFrame(job_title)\n",
    "df['Location'] = pd.DataFrame(company_location)\n",
    "df['Website URL'] = pd.DataFrame(job_url)\n",
    "df"
   ]
  },
  {
   "cell_type": "code",
   "execution_count": null,
   "metadata": {},
   "outputs": [],
   "source": [
    "df.to_csv('python_developer_jobs.csv')"
   ]
  },
  {
   "cell_type": "code",
   "execution_count": null,
   "metadata": {},
   "outputs": [],
   "source": [
    "def job_title_filter(x, user_input_job_title):\n",
    "    \n",
    "    s = [i.lower() for i in user_input_job_title]\n",
    "    suggestion = []\n",
    "    for i in s:\n",
    "        suggestion.extend(i.split())\n",
    "\n",
    "    s = x.split()\n",
    "    a = [i.lower() for i in s]\n",
    "    \n",
    "    intersection = list(set(suggestion).intersection(set(a)))\n",
    "    return x if len(intersection)>1 else np.nan"
   ]
  },
  {
   "cell_type": "code",
   "execution_count": null,
   "metadata": {},
   "outputs": [],
   "source": [
    "df['Job Title'] = df['Job Title'].apply(lambda x: job_title_filter(x, user_input_job_title))\n",
    "df=df.dropna()\n",
    "df.reset_index(drop=True, inplace=True)\n",
    "df"
   ]
  },
  {
   "cell_type": "code",
   "execution_count": null,
   "metadata": {},
   "outputs": [],
   "source": []
  },
  {
   "cell_type": "code",
   "execution_count": null,
   "metadata": {},
   "outputs": [],
   "source": [
    "df=df.iloc[:10,:]\n",
    "df"
   ]
  },
  {
   "cell_type": "code",
   "execution_count": null,
   "metadata": {},
   "outputs": [],
   "source": [
    "def description(link):\n",
    "\n",
    "    driver.get(link)\n",
    "    time.sleep(3)\n",
    "\n",
    "    driver.find_element(by=By.CSS_SELECTOR, value='button[data-tracking-control-name=\"public_jobs_show-more-html-btn\"]').click()\n",
    "    time.sleep(2)\n",
    "\n",
    "    description = driver.find_elements(by=By.CSS_SELECTOR, value='div[class=\"show-more-less-html__markup relative overflow-hidden\"]')\n",
    "    driver.implicitly_wait(4)\n",
    "    \n",
    "    for j in description:\n",
    "        return j.text"
   ]
  },
  {
   "cell_type": "code",
   "execution_count": null,
   "metadata": {},
   "outputs": [],
   "source": [
    "website_url = df['Website URL'].tolist()\n",
    "\n",
    "job_description = []\n",
    "\n",
    "for i in website_url:\n",
    "    data = description(i)\n",
    "    if data is not None and len(data.strip()) > 0:\n",
    "        job_description.append(data)\n",
    "    else:\n",
    "        job_description.append('Description Not Available')"
   ]
  },
  {
   "cell_type": "code",
   "execution_count": null,
   "metadata": {},
   "outputs": [],
   "source": [
    "df['Job Description'] = pd.DataFrame(job_description, columns=['Description'])\n",
    "df"
   ]
  },
  {
   "cell_type": "code",
   "execution_count": null,
   "metadata": {},
   "outputs": [],
   "source": [
    "l = len(df['Company Name'])\n",
    "for i in range(0,l):\n",
    "    print(f\"Company Name : {df.iloc[i,0]}\")\n",
    "    print(f\"Job Title    : {df.iloc[i,1]}\")\n",
    "    print(f\"Location     : {df.iloc[i,2]}\")\n",
    "    print(f\"Website URL  : {df.iloc[i,3]}\")\n",
    "    print(f\"Description  : {df.iloc[i,4]}\")\n"
   ]
  },
  {
   "cell_type": "code",
   "execution_count": null,
   "metadata": {},
   "outputs": [],
   "source": []
  },
  {
   "cell_type": "code",
   "execution_count": null,
   "metadata": {},
   "outputs": [],
   "source": []
  }
 ],
 "metadata": {
  "kernelspec": {
   "display_name": "Python 3 (ipykernel)",
   "language": "python",
   "name": "python3"
  },
  "language_info": {
   "codemirror_mode": {
    "name": "ipython",
    "version": 3
   },
   "file_extension": ".py",
   "mimetype": "text/x-python",
   "name": "python",
   "nbconvert_exporter": "python",
   "pygments_lexer": "ipython3",
   "version": "3.9.7"
  }
 },
 "nbformat": 4,
 "nbformat_minor": 2
}
